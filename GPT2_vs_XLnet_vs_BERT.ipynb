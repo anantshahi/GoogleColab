{
  "nbformat": 4,
  "nbformat_minor": 0,
  "metadata": {
    "colab": {
      "name": "GPT2 vs XLnet vs BERT.ipynb",
      "provenance": [],
      "authorship_tag": "ABX9TyP51YV7fqp2W11UPz/0ApXj",
      "include_colab_link": true
    },
    "kernelspec": {
      "name": "python3",
      "display_name": "Python 3"
    },
    "language_info": {
      "name": "python"
    },
    "accelerator": "GPU"
  },
  "cells": [
    {
      "cell_type": "markdown",
      "metadata": {
        "id": "view-in-github",
        "colab_type": "text"
      },
      "source": [
        "<a href=\"https://colab.research.google.com/github/anantshahi/GoogleColab/blob/main/GPT2_vs_XLnet_vs_BERT.ipynb\" target=\"_parent\"><img src=\"https://colab.research.google.com/assets/colab-badge.svg\" alt=\"Open In Colab\"/></a>"
      ]
    },
    {
      "cell_type": "markdown",
      "metadata": {
        "id": "N4WFbeeWe-Iq"
      },
      "source": [
        "#What this is about?\n",
        "This colab noteboook will give you a POC for industrial standard Abstractive summarizers along with their comparisons. Sections will be segregated with author's note and infrences.\n",
        "\n",
        "**Note**: *Make sure you use GPU instance for much faster results*"
      ]
    },
    {
      "cell_type": "markdown",
      "metadata": {
        "id": "mh4x_6SbfY8u"
      },
      "source": [
        "#Libraries and Packages"
      ]
    },
    {
      "cell_type": "code",
      "metadata": {
        "colab": {
          "base_uri": "https://localhost:8080/"
        },
        "id": "LsMk1ryKjDlc",
        "outputId": "449c2fd9-4a98-4dcc-8324-db3b96eb4ca8"
      },
      "source": [
        "!pip uninstall thinc"
      ],
      "execution_count": 9,
      "outputs": [
        {
          "output_type": "stream",
          "text": [
            "Uninstalling thinc-7.4.0:\n",
            "  Would remove:\n",
            "    /usr/local/lib/python3.7/dist-packages/thinc-7.4.0.dist-info/*\n",
            "    /usr/local/lib/python3.7/dist-packages/thinc/*\n",
            "Proceed (y/n)? y\n",
            "  Successfully uninstalled thinc-7.4.0\n"
          ],
          "name": "stdout"
        }
      ]
    },
    {
      "cell_type": "code",
      "metadata": {
        "colab": {
          "base_uri": "https://localhost:8080/"
        },
        "id": "GVkR8zz1jDiI",
        "outputId": "f8d63870-e3e3-40f2-ad39-c114be3b74f4"
      },
      "source": [
        "!pip uninstall cymem"
      ],
      "execution_count": 10,
      "outputs": [
        {
          "output_type": "stream",
          "text": [
            "Uninstalling cymem-1.31.2:\n",
            "  Would remove:\n",
            "    /usr/local/lib/python3.7/dist-packages/cymem-1.31.2.dist-info/*\n",
            "    /usr/local/lib/python3.7/dist-packages/cymem/*\n",
            "Proceed (y/n)? y\n",
            "  Successfully uninstalled cymem-1.31.2\n"
          ],
          "name": "stdout"
        }
      ]
    },
    {
      "cell_type": "code",
      "metadata": {
        "colab": {
          "base_uri": "https://localhost:8080/",
          "height": 894
        },
        "id": "eHa83WNKihbQ",
        "outputId": "d270e60a-4299-41e7-dd1d-ab9ebe903eb0"
      },
      "source": [
        "!pip install spacy==2.1.3"
      ],
      "execution_count": 15,
      "outputs": [
        {
          "output_type": "stream",
          "text": [
            "Collecting spacy==2.1.3\n",
            "\u001b[?25l  Downloading https://files.pythonhosted.org/packages/c7/29/ede5977ea144bb5758407542eb363ebfb11bbb459d26dea5dd0545563854/spacy-2.1.3-cp37-cp37m-manylinux1_x86_64.whl (27.7MB)\n",
            "\u001b[K     |████████████████████████████████| 27.7MB 118kB/s \n",
            "\u001b[?25hRequirement already satisfied: requests<3.0.0,>=2.13.0 in /usr/local/lib/python3.7/dist-packages (from spacy==2.1.3) (2.23.0)\n",
            "Collecting blis<0.3.0,>=0.2.2\n",
            "\u001b[?25l  Downloading https://files.pythonhosted.org/packages/fa/5f/47b7b29ad202b2210020e2f33bfb06d1db2abe0e709c2a84736e8a9d1bd5/blis-0.2.4-cp37-cp37m-manylinux1_x86_64.whl (3.2MB)\n",
            "\u001b[K     |████████████████████████████████| 3.2MB 43.8MB/s \n",
            "\u001b[?25hRequirement already satisfied: numpy>=1.15.0 in /usr/local/lib/python3.7/dist-packages (from spacy==2.1.3) (1.19.5)\n",
            "Collecting cymem<2.1.0,>=2.0.2\n",
            "  Using cached https://files.pythonhosted.org/packages/b6/34/40547e057c1b31080c1d78f6accf9f1ed6ee46e3fc7ebd8599197915ef89/cymem-2.0.5-cp37-cp37m-manylinux2014_x86_64.whl\n",
            "Requirement already satisfied: plac<1.0.0,>=0.9.6 in /usr/local/lib/python3.7/dist-packages (from spacy==2.1.3) (0.9.6)\n",
            "Requirement already satisfied: srsly<1.1.0,>=0.0.5 in /usr/local/lib/python3.7/dist-packages (from spacy==2.1.3) (1.0.5)\n",
            "Requirement already satisfied: jsonschema<3.0.0,>=2.6.0 in /usr/local/lib/python3.7/dist-packages (from spacy==2.1.3) (2.6.0)\n",
            "Requirement already satisfied: wasabi<1.1.0,>=0.2.0 in /usr/local/lib/python3.7/dist-packages (from spacy==2.1.3) (0.8.2)\n",
            "Requirement already satisfied: murmurhash<1.1.0,>=0.28.0 in /usr/local/lib/python3.7/dist-packages (from spacy==2.1.3) (0.28.0)\n",
            "Collecting thinc<7.1.0,>=7.0.2\n",
            "\u001b[?25l  Downloading https://files.pythonhosted.org/packages/36/42/d7ea7539af3852fd8c1f0b3adf4a100fb3d72b40b69cef1a764ff979a743/thinc-7.0.8-cp37-cp37m-manylinux1_x86_64.whl (2.1MB)\n",
            "\u001b[K     |████████████████████████████████| 2.1MB 45.4MB/s \n",
            "\u001b[?25hCollecting preshed<2.1.0,>=2.0.1\n",
            "\u001b[?25l  Downloading https://files.pythonhosted.org/packages/bc/2b/3ecd5d90d2d6fd39fbc520de7d80db5d74defdc2d7c2e15531d9cc3498c7/preshed-2.0.1-cp37-cp37m-manylinux1_x86_64.whl (82kB)\n",
            "\u001b[K     |████████████████████████████████| 92kB 13.2MB/s \n",
            "\u001b[?25hRequirement already satisfied: certifi>=2017.4.17 in /usr/local/lib/python3.7/dist-packages (from requests<3.0.0,>=2.13.0->spacy==2.1.3) (2020.12.5)\n",
            "Requirement already satisfied: urllib3!=1.25.0,!=1.25.1,<1.26,>=1.21.1 in /usr/local/lib/python3.7/dist-packages (from requests<3.0.0,>=2.13.0->spacy==2.1.3) (1.24.3)\n",
            "Requirement already satisfied: chardet<4,>=3.0.2 in /usr/local/lib/python3.7/dist-packages (from requests<3.0.0,>=2.13.0->spacy==2.1.3) (3.0.4)\n",
            "Requirement already satisfied: idna<3,>=2.5 in /usr/local/lib/python3.7/dist-packages (from requests<3.0.0,>=2.13.0->spacy==2.1.3) (2.10)\n",
            "Requirement already satisfied: tqdm<5.0.0,>=4.10.0 in /usr/local/lib/python3.7/dist-packages (from thinc<7.1.0,>=7.0.2->spacy==2.1.3) (4.41.1)\n",
            "\u001b[31mERROR: en-core-web-sm 2.2.5 has requirement spacy>=2.2.2, but you'll have spacy 2.1.3 which is incompatible.\u001b[0m\n",
            "Installing collected packages: blis, cymem, preshed, thinc, spacy\n",
            "  Found existing installation: blis 0.4.1\n",
            "    Uninstalling blis-0.4.1:\n",
            "      Successfully uninstalled blis-0.4.1\n",
            "  Found existing installation: cymem 1.31.2\n",
            "    Uninstalling cymem-1.31.2:\n",
            "      Successfully uninstalled cymem-1.31.2\n",
            "  Found existing installation: preshed 1.0.1\n",
            "    Uninstalling preshed-1.0.1:\n",
            "      Successfully uninstalled preshed-1.0.1\n",
            "  Found existing installation: spacy 2.2.4\n",
            "    Uninstalling spacy-2.2.4:\n",
            "      Successfully uninstalled spacy-2.2.4\n",
            "Successfully installed blis-0.2.4 cymem-2.0.5 preshed-2.0.1 spacy-2.1.3 thinc-7.0.8\n"
          ],
          "name": "stdout"
        },
        {
          "output_type": "display_data",
          "data": {
            "application/vnd.colab-display-data+json": {
              "pip_warning": {
                "packages": [
                  "cymem",
                  "thinc"
                ]
              }
            }
          },
          "metadata": {
            "tags": []
          }
        }
      ]
    },
    {
      "cell_type": "code",
      "metadata": {
        "id": "M7CYLls3iGpz"
      },
      "source": [
        "!pip install bert-extractive-summarizer "
      ],
      "execution_count": null,
      "outputs": []
    },
    {
      "cell_type": "code",
      "metadata": {
        "id": "yA5wzHwwfYlh"
      },
      "source": [
        "!pip install transformers==2.2.0 "
      ],
      "execution_count": null,
      "outputs": []
    },
    {
      "cell_type": "markdown",
      "metadata": {
        "id": "r2cgkAuBnzra"
      },
      "source": [
        "#Change this to load your own paragraph"
      ]
    },
    {
      "cell_type": "code",
      "metadata": {
        "id": "FwwKYXOln6At"
      },
      "source": [
        "#You have to enter your desired paragraph in the body variable to get the output\n",
        "body = \"\"\"   \n",
        "Scientists say they have discovered a new species of orangutans on Indonesia’s island of Sumatra.\n",
        "The population differs in several ways from the two existing orangutan species found in Sumatra and the neighboring island of Borneo.\n",
        "The orangutans were found inside North Sumatra’s Batang Toru forest, the science publication Current Biology reported.\n",
        "Researchers named the new species the Tapanuli orangutan. They say the animals are considered a new species because of genetic, skeletal and tooth differences.\n",
        "Michael Kruetzen is a geneticist with the University of Zurich who has studied the orangutans for several years. He said he was excited to be part of the unusual discovery of a new great ape in the present day. He noted that most great apes are currently considered endangered or severely endangered.\n",
        "Gorillas, chimpanzees and bonobos also belong to the great ape species.\n",
        "Orangutan – which means person of the forest in the Indonesian and Malay languages - is the world’s biggest tree-living mammal. The orange-haired animals can move easily among the trees because their arms are longer than their legs. They live more lonely lives than other great apes, spending a lot of time sleeping and eating fruit in the forest.\n",
        "The new study said fewer than 800 of the newly-described orangutans exist. Their low numbers make the group the most endangered of all the great ape species.\n",
        "They live within an area covering about 1,000 square kilometers. The population is considered highly vulnerable. That is because the environment which they depend on is greatly threatened by development.\n",
        "Researchers say if steps are not taken quickly to reduce the current and future threats, the new species could become extinct “within our lifetime.”\n",
        "Research into the new species began in 2013, when an orangutan protection group in Sumatra found an injured orangutan in an area far away from the other species. The adult male orangutan had been beaten by local villagers and died of his injuries. The complete skull was examined by researchers.\n",
        "Among the physical differences of the new species are a notably smaller head and frizzier hair. The Tapanuli orangutans also have a different diet and are found only in higher forest areas.\n",
        "There is no unified international system for recognizing new species. But to be considered, discovery claims at least require publication in a major scientific publication.\n",
        "Russell Mittermeier is head of the primate specialist group at the International Union for the Conservation of Nature. He called the finding a “remarkable discovery.” He said it puts responsibility on the Indonesian government to help the species survive.\n",
        "Matthew Nowak is one of the writers of the study. He told the Associated Press that there are three groups of the Tapanuli orangutans that are separated by non-protected land.He said forest land needs to connect the separated groups.\n",
        "In addition, the writers of the study are recommending that plans for a hydropower center in the area be stopped by the government.\n",
        "It also recommended that remaining forest in the Sumatran area where the orangutans live be protected.\n",
        "I’m Bryan Lynn.\n",
        "\n",
        "\n",
        "\"\"\""
      ],
      "execution_count": 6,
      "outputs": []
    },
    {
      "cell_type": "markdown",
      "metadata": {
        "id": "nCTMjnY5g7v9"
      },
      "source": [
        "# Summarisation with BERT model"
      ]
    },
    {
      "cell_type": "code",
      "metadata": {
        "id": "t2Iy6cSjenqy"
      },
      "source": [
        "from summarizer import Summarizer,TransformerSummarizer"
      ],
      "execution_count": 1,
      "outputs": []
    },
    {
      "cell_type": "code",
      "metadata": {
        "id": "krSmhgjQhD-C"
      },
      "source": [
        ""
      ],
      "execution_count": 2,
      "outputs": []
    },
    {
      "cell_type": "code",
      "metadata": {
        "colab": {
          "base_uri": "https://localhost:8080/"
        },
        "id": "tSBuM9NHkF04",
        "outputId": "237598a9-a847-4340-b816-d5e1fa1ffbb5"
      },
      "source": [
        "bert_model = Summarizer()\n",
        "bert_summary = ''.join(bert_model(body, min_length=60))\n"
      ],
      "execution_count": 3,
      "outputs": [
        {
          "output_type": "stream",
          "text": [
            "100%|██████████| 434/434 [00:00<00:00, 370437.11B/s]\n",
            "100%|██████████| 1344997306/1344997306 [01:53<00:00, 11860378.12B/s]\n",
            "100%|██████████| 231508/231508 [00:00<00:00, 317012.17B/s]\n"
          ],
          "name": "stderr"
        },
        {
          "output_type": "stream",
          "text": [
            "Scientists say they have discovered a new species of orangutans on Indonesia’s island of Sumatra. They say the animals are considered a new species because of genetic, skeletal and tooth differences. He said he was excited to be part of the unusual discovery of a new great ape in the present day. He noted that most great apes are currently considered endangered or severely endangered. Orangutan – which means person of the forest in the Indonesian and Malay languages - is the world’s biggest tree-living mammal. It also recommended that remaining forest in the Sumatran area where the orangutans live be protected.\n"
          ],
          "name": "stdout"
        }
      ]
    },
    {
      "cell_type": "code",
      "metadata": {
        "colab": {
          "base_uri": "https://localhost:8080/"
        },
        "id": "NnGZsC0xkJj0",
        "outputId": "6d878fa4-5e44-40ef-a609-8053312321d1"
      },
      "source": [
        "print(bert_summary)"
      ],
      "execution_count": 4,
      "outputs": [
        {
          "output_type": "stream",
          "text": [
            "Scientists say they have discovered a new species of orangutans on Indonesia’s island of Sumatra. They say the animals are considered a new species because of genetic, skeletal and tooth differences. He said he was excited to be part of the unusual discovery of a new great ape in the present day. He noted that most great apes are currently considered endangered or severely endangered. Orangutan – which means person of the forest in the Indonesian and Malay languages - is the world’s biggest tree-living mammal. It also recommended that remaining forest in the Sumatran area where the orangutans live be protected.\n"
          ],
          "name": "stdout"
        }
      ]
    },
    {
      "cell_type": "code",
      "metadata": {
        "id": "kHFHY9Yxnc6X"
      },
      "source": [
        "#Bert works as exctractive summariser, hence, summary created is ranked better and is viable enough"
      ],
      "execution_count": 11,
      "outputs": []
    },
    {
      "cell_type": "markdown",
      "metadata": {
        "id": "YaC8Z7S3nf86"
      },
      "source": [
        "#Text Summarization with GPT2"
      ]
    },
    {
      "cell_type": "code",
      "metadata": {
        "colab": {
          "base_uri": "https://localhost:8080/"
        },
        "id": "GPBspXtRnkqr",
        "outputId": "68f91933-6d1f-4741-b26c-f830c75249db"
      },
      "source": [
        "GPT2_model = TransformerSummarizer(transformer_type=\"GPT2\",transformer_model_key=\"gpt2-medium\")\n",
        "full = ''.join(GPT2_model(body, min_length=60))"
      ],
      "execution_count": 7,
      "outputs": [
        {
          "output_type": "stream",
          "text": [
            "100%|██████████| 718/718 [00:00<00:00, 152698.02B/s]\n",
            "100%|██████████| 1520013706/1520013706 [01:39<00:00, 15282593.83B/s]\n",
            "100%|██████████| 1042301/1042301 [00:01<00:00, 966702.89B/s]\n",
            "100%|██████████| 456318/456318 [00:00<00:00, 499944.08B/s]\n"
          ],
          "name": "stderr"
        }
      ]
    },
    {
      "cell_type": "code",
      "metadata": {
        "colab": {
          "base_uri": "https://localhost:8080/"
        },
        "id": "M4XvG8O2oK0W",
        "outputId": "44d86e79-bd21-4506-d9cf-8086fd0ec556"
      },
      "source": [
        "print(full)"
      ],
      "execution_count": 8,
      "outputs": [
        {
          "output_type": "stream",
          "text": [
            "Scientists say they have discovered a new species of orangutans on Indonesia’s island of Sumatra. The orangutans were found inside North Sumatra’s Batang Toru forest, the science publication Current Biology reported. The new study said fewer than 800 of the newly-described orangutans exist. They live within an area covering about 1,000 square kilometers. That is because the environment which they depend on is greatly threatened by development. He told the Associated Press that there are three groups of the Tapanuli orangutans that are separated by non-protected land.\n"
          ],
          "name": "stdout"
        }
      ]
    },
    {
      "cell_type": "code",
      "metadata": {
        "id": "GBb8kS2oqoRw"
      },
      "source": [
        "#For an abstractive summarization, GPT2 is quite on point"
      ],
      "execution_count": 12,
      "outputs": []
    },
    {
      "cell_type": "markdown",
      "metadata": {
        "id": "lsKy3cOAouUy"
      },
      "source": [
        "#Text Summarization with XLNet"
      ]
    },
    {
      "cell_type": "code",
      "metadata": {
        "colab": {
          "base_uri": "https://localhost:8080/"
        },
        "id": "Kt4wm4cCoN7K",
        "outputId": "ce57d941-ff94-49b0-d241-f1028856098c"
      },
      "source": [
        "model = TransformerSummarizer(transformer_type=\"XLNet\",transformer_model_key=\"xlnet-base-cased\")\n",
        "full = ''.join(model(body, min_length=60))"
      ],
      "execution_count": 9,
      "outputs": [
        {
          "output_type": "stream",
          "text": [
            "100%|██████████| 760/760 [00:00<00:00, 188675.41B/s]\n",
            "100%|██████████| 467042463/467042463 [00:35<00:00, 13006106.14B/s]\n",
            "100%|██████████| 798011/798011 [00:00<00:00, 882107.34B/s]\n"
          ],
          "name": "stderr"
        }
      ]
    },
    {
      "cell_type": "code",
      "metadata": {
        "colab": {
          "base_uri": "https://localhost:8080/"
        },
        "id": "1wxjMMOLo0o2",
        "outputId": "5e1ecca8-1ca0-4570-eb87-2b2e79bc82bb"
      },
      "source": [
        "print(full)"
      ],
      "execution_count": 10,
      "outputs": [
        {
          "output_type": "stream",
          "text": [
            "Scientists say they have discovered a new species of orangutans on Indonesia’s island of Sumatra. They say the animals are considered a new species because of genetic, skeletal and tooth differences. That is because the environment which they depend on is greatly threatened by development. Researchers say if steps are not taken quickly to reduce the current and future threats, the new species could become extinct “within our lifetime.” The Tapanuli orangutans also have a different diet and are found only in higher forest areas. It also recommended that remaining forest in the Sumatran area where the orangutans live be protected.\n"
          ],
          "name": "stdout"
        }
      ]
    },
    {
      "cell_type": "code",
      "metadata": {
        "id": "6Y7YZnM-o22V"
      },
      "source": [
        "#XLNet is good too, only one sentence was out of order but all sentences made perfect sense"
      ],
      "execution_count": 13,
      "outputs": []
    },
    {
      "cell_type": "code",
      "metadata": {
        "id": "UizJNwpJq_vu"
      },
      "source": [
        ""
      ],
      "execution_count": null,
      "outputs": []
    },
    {
      "cell_type": "markdown",
      "metadata": {
        "id": "mK9bcw16rGsI"
      },
      "source": [
        "#Important points to consider"
      ]
    },
    {
      "cell_type": "markdown",
      "metadata": {
        "id": "q8_CGGlurLmS"
      },
      "source": [
        "1. For abstractive summarisers, they are good enough but eventually, \n",
        "agressive testing will tell how effective they are over wide variety of input. \n",
        "\n",
        "2. Now, the reason why they sometimes seems to be so effective in the first trial is because the input statement they are using certain times fall in the domain of their training corpus type, for eg., let us if the model has been trained on marketing articles corpus, a marketing article will produce better results. Stress testing with different variety of articles shall reveal the real score\n",
        "\n",
        "3. Length, of the output is also one crucial factor that determines the effectiveness of abstractive summarisers. Hence playing around with min and max of output will determine its effectivity in your particular use case. "
      ]
    },
    {
      "cell_type": "code",
      "metadata": {
        "id": "tmPOO1OPrKus"
      },
      "source": [
        ""
      ],
      "execution_count": null,
      "outputs": []
    }
  ]
}